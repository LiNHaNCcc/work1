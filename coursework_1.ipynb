{
 "cells": [
  {
   "cell_type": "code",
   "execution_count": 75,
   "metadata": {},
   "outputs": [
    {
     "name": "stdout",
     "output_type": "stream",
     "text": [
      "     proportion  total_budget  school_awareness  media_awareness  clean_air  \\\n",
      "0      0.004197        139000             41000            18000      21000   \n",
      "1      0.002172        220000             74000            30000      50000   \n",
      "2      0.002044        160000             26000            29000      41000   \n",
      "3      0.002609        161000             50000            10000      33000   \n",
      "4      0.002153        130000              8000             3000      37000   \n",
      "..          ...           ...               ...              ...        ...   \n",
      "147    0.008729        209000             41000            14000      69000   \n",
      "148    0.001014        109000             19000            10000      20000   \n",
      "149    0.006545        201000             55000            50000      18000   \n",
      "150    0.005083        470000             76000            67000     128000   \n",
      "151    0.006667        140000             32000            37000       5000   \n",
      "\n",
      "     clean_env  health_training  sub_counselling  \n",
      "0        22000            18000            19000  \n",
      "1        17000            23000            26000  \n",
      "2        45000             5000            14000  \n",
      "3        42000            19000             7000  \n",
      "4        52000            17000            13000  \n",
      "..         ...              ...              ...  \n",
      "147      47000            30000             8000  \n",
      "148      41000            13000             6000  \n",
      "149      27000            23000            28000  \n",
      "150     112000            57000            30000  \n",
      "151      39000             8000            19000  \n",
      "\n",
      "[152 rows x 8 columns]\n"
     ]
    },
    {
     "data": {
      "image/png": "[encoded data removed]",
      "text/plain": [
       "<Figure size 288x720 with 1 Axes>"
      ]
     },
     "metadata": {
      "needs_background": "light"
     },
     "output_type": "display_data"
    }
   ],
   "source": [
    "from pandas import read_csv\n",
    "import matplotlib.pyplot as plt\n",
    "import numpy as np\n",
    "\n",
    "#import data\n",
    "filename = 'obesity.csv'\n",
    "\n",
    "names = ['proportion','total_budget','school_awareness','media_awareness','clean_air','clean_env','health_training','sub_counselling']   \n",
    "\n",
    "data = read_csv(filename, names=names)\n",
    "\n",
    "print(data)\n",
    "\n",
    "output_filename = 'boxplot.png'\n",
    "\n",
    "figure_width, figure_height = 4,10\n",
    "\n",
    "plt.figure(figsize=(figure_width,figure_height))\n",
    "\n",
    "plt.xlim([0.75,1.25])\n",
    "plt.xticks([])\n",
    "plt.boxplot(data.proportion, manage_ticks=(False))\n",
    "plt.title('Proportion of obesity')\n",
    "plt.savefig(output_filename)\n",
    "\n"
   ]
  },
  {
   "cell_type": "code",
   "execution_count": 76,
   "metadata": {},
   "outputs": [
    {
     "name": "stdout",
     "output_type": "stream",
     "text": [
      "dis_num    0\n",
      "dtype: int64\n",
      "dis_num    9\n",
      "dtype: int64\n",
      "     dis_num\n",
      "0      False\n",
      "1      False\n",
      "2      False\n",
      "3      False\n",
      "4      False\n",
      "..       ...\n",
      "147     True\n",
      "148    False\n",
      "149     True\n",
      "150    False\n",
      "151     True\n",
      "\n",
      "[152 rows x 1 columns]\n"
     ]
    },
    {
     "data": {
      "text/html": [
       "<div>\n",
       "<style scoped>\n",
       "    .dataframe tbody tr th:only-of-type {\n",
       "        vertical-align: middle;\n",
       "    }\n",
       "\n",
       "    .dataframe tbody tr th {\n",
       "        vertical-align: top;\n",
       "    }\n",
       "\n",
       "    .dataframe thead th {\n",
       "        text-align: right;\n",
       "    }\n",
       "</style>\n",
       "<table border=\"1\" class=\"dataframe\">\n",
       "  <thead>\n",
       "    <tr style=\"text-align: right;\">\n",
       "      <th></th>\n",
       "      <th>dis_num</th>\n",
       "    </tr>\n",
       "  </thead>\n",
       "  <tbody>\n",
       "    <tr>\n",
       "      <th>7</th>\n",
       "      <td>True</td>\n",
       "    </tr>\n",
       "    <tr>\n",
       "      <th>91</th>\n",
       "      <td>True</td>\n",
       "    </tr>\n",
       "    <tr>\n",
       "      <th>92</th>\n",
       "      <td>True</td>\n",
       "    </tr>\n",
       "    <tr>\n",
       "      <th>106</th>\n",
       "      <td>True</td>\n",
       "    </tr>\n",
       "    <tr>\n",
       "      <th>111</th>\n",
       "      <td>True</td>\n",
       "    </tr>\n",
       "    <tr>\n",
       "      <th>144</th>\n",
       "      <td>True</td>\n",
       "    </tr>\n",
       "    <tr>\n",
       "      <th>147</th>\n",
       "      <td>True</td>\n",
       "    </tr>\n",
       "    <tr>\n",
       "      <th>149</th>\n",
       "      <td>True</td>\n",
       "    </tr>\n",
       "    <tr>\n",
       "      <th>151</th>\n",
       "      <td>True</td>\n",
       "    </tr>\n",
       "  </tbody>\n",
       "</table>\n",
       "</div>"
      ],
      "text/plain": [
       "     dis_num\n",
       "7       True\n",
       "91      True\n",
       "92      True\n",
       "106     True\n",
       "111     True\n",
       "144     True\n",
       "147     True\n",
       "149     True\n",
       "151     True"
      ]
     },
     "execution_count": 76,
     "metadata": {},
     "output_type": "execute_result"
    }
   ],
   "source": [
    "import seaborn as sns\n",
    "import pandas as pd\n",
    "y= pd.DataFrame(y_values,columns=['dis_num'])\n",
    "iqr= y.quantile(0.75) - y.quantile(0.25)\n",
    "val_low= y.quantile(0.25)- 1.5*iqr\n",
    "val_up= y.quantile(0.75)+1.5*iqr\n",
    "rule_low=(y < val_low)\n",
    "rule_up=(y > val_up)\n",
    "print(np.sum(rule_low))\n",
    "print(np.sum(rule_up))\n",
    "print(rule_up)\n",
    "rule_up[rule_up['dis_num'].isin([True])]"
   ]
  },
  {
   "cell_type": "code",
   "execution_count": 87,
   "metadata": {},
   "outputs": [
    {
     "name": "stdout",
     "output_type": "stream",
     "text": [
      "     proportion  total_budget  school_awareness  media_awareness  clean_air  \\\n",
      "0      0.004197        139000             41000            18000      21000   \n",
      "1      0.002172        220000             74000            30000      50000   \n",
      "2      0.002044        160000             26000            29000      41000   \n",
      "3      0.002609        161000             50000            10000      33000   \n",
      "4      0.002153        130000              8000             3000      37000   \n",
      "..          ...           ...               ...              ...        ...   \n",
      "143    0.002764        200000             36000            17000      16000   \n",
      "145    0.002902        380000            125000            29000      11000   \n",
      "146    0.003453        110000             11000            12000      33000   \n",
      "148    0.001014        109000             19000            10000      20000   \n",
      "150    0.005083        470000             76000            67000     128000   \n",
      "\n",
      "     clean_env  health_training  sub_counselling  \n",
      "0        22000            18000            19000  \n",
      "1        17000            23000            26000  \n",
      "2        45000             5000            14000  \n",
      "3        42000            19000             7000  \n",
      "4        52000            17000            13000  \n",
      "..         ...              ...              ...  \n",
      "143      86000            24000            21000  \n",
      "145     158000            11000            46000  \n",
      "146      37000            13000             4000  \n",
      "148      41000            13000             6000  \n",
      "150     112000            57000            30000  \n",
      "\n",
      "[143 rows x 8 columns]\n"
     ]
    }
   ],
   "source": [
    "data_new=data.drop([7,91,92,106,111,144,147,149,151],axis=0)\n",
    "print(data_new)\n"
   ]
  },
  {
   "cell_type": "code",
   "execution_count": 91,
   "metadata": {},
   "outputs": [
    {
     "name": "stdout",
     "output_type": "stream",
     "text": [
      "                            OLS Regression Results                            \n",
      "==============================================================================\n",
      "Dep. Variable:             proportion   R-squared:                       0.046\n",
      "Model:                            OLS   Adj. R-squared:                  0.004\n",
      "Method:                 Least Squares   F-statistic:                     1.098\n",
      "Date:                Fri, 12 Nov 2021   Prob (F-statistic):              0.367\n",
      "Time:                        21:11:25   Log-Likelihood:                 777.48\n",
      "No. Observations:                 143   AIC:                            -1541.\n",
      "Df Residuals:                     136   BIC:                            -1520.\n",
      "Df Model:                           6                                         \n",
      "Covariance Type:            nonrobust                                         \n",
      "====================================================================================\n",
      "                       coef    std err          t      P>|t|      [0.025      0.975]\n",
      "------------------------------------------------------------------------------------\n",
      "const                0.0032      0.000     21.376      0.000       0.003       0.003\n",
      "total_budget      8.358e-10   8.57e-10      0.975      0.331   -8.59e-10    2.53e-09\n",
      "school_awareness -6.651e-09   2.96e-09     -2.248      0.026   -1.25e-08   -7.99e-10\n",
      "media_awareness    3.09e-09   4.98e-09      0.621      0.536   -6.75e-09    1.29e-08\n",
      "clean_air         2.098e-09   3.33e-09      0.629      0.530   -4.49e-09    8.69e-09\n",
      "clean_env        -1.613e-10   2.82e-09     -0.057      0.954   -5.73e-09    5.41e-09\n",
      "health_training  -4.863e-09   6.22e-09     -0.782      0.436   -1.72e-08    7.43e-09\n",
      "sub_counselling   7.322e-09   8.02e-09      0.913      0.363   -8.54e-09    2.32e-08\n",
      "==============================================================================\n",
      "Omnibus:                        4.673   Durbin-Watson:                   2.190\n",
      "Prob(Omnibus):                  0.097   Jarque-Bera (JB):                4.729\n",
      "Skew:                           0.438   Prob(JB):                       0.0940\n",
      "Kurtosis:                       2.834   Cond. No.                     1.84e+16\n",
      "==============================================================================\n",
      "\n",
      "Notes:\n",
      "[1] Standard Errors assume that the covariance matrix of the errors is correctly specified.\n",
      "[2] The smallest eigenvalue is 6.07e-20. This might indicate that there are\n",
      "strong multicollinearity problems or that the design matrix is singular.\n",
      "\n",
      "predictor coefficients = total_budget        8.358334e-10\n",
      "school_awareness   -6.650518e-09\n",
      "media_awareness     3.089955e-09\n",
      "clean_air           2.098478e-09\n",
      "clean_env          -1.613479e-10\n",
      "health_training    -4.863080e-09\n",
      "sub_counselling     7.322473e-09\n",
      "dtype: float64\n",
      "constant               = 0.0031540527307202773\n",
      "Rsquared               = 0.04620093806939174\n",
      "MSE                    = 1.1665070279497166e-06\n",
      "T-test pvalues         = total_budget        0.331159\n",
      "school_awareness    0.026212\n",
      "media_awareness     0.535777\n",
      "clean_air           0.530090\n",
      "clean_env           0.954403\n",
      "health_training     0.435529\n",
      "sub_counselling     0.363041\n",
      "dtype: float64\n",
      "F-test pvalue          = 0.3668214433066397\n"
     ]
    },
    {
     "name": "stderr",
     "output_type": "stream",
     "text": [
      "E:\\miniconda\\envs\\my_conda_env_py38\\lib\\site-packages\\statsmodels\\tsa\\tsatools.py:142: FutureWarning: In a future version of pandas all arguments of concat except for the argument 'objs' will be keyword-only\n",
      "  x = pd.concat(x[::order], 1)\n"
     ]
    }
   ],
   "source": [
    "import statsmodels.api as sms\n",
    "import numpy as np\n",
    "from matplotlib.pyplot import MultipleLocator\n",
    "\n",
    "\n",
    "output_filename = 'regression_figure.png'\n",
    "y_values = data_new.proportion\n",
    "x_values = data_new[['total_budget','school_awareness','media_awareness','clean_air','clean_env','health_training','sub_counselling']]\n",
    "# These lines perform the regression procedure:\n",
    "X_values = sms.add_constant(x_values)\n",
    "regression_model_a = sms.OLS(y_values, X_values)\n",
    "regression_model_b = regression_model_a.fit()\n",
    "# and print a summary of the results:\n",
    "print(regression_model_b.summary())\n",
    "print() # blank line\n",
    "\n",
    "# Now we store all the relevant values:\n",
    "predictor_coeffs  = regression_model_b.params[1:]\n",
    "constant          = regression_model_b.params[0] # called the 'intercept' in simple regression\n",
    "Rsquared          = regression_model_b.rsquared\n",
    "MSE               = regression_model_b.mse_resid\n",
    "pvalues_T         = regression_model_b.pvalues[1:]\n",
    "pvalue_F          = regression_model_b.f_pvalue\n",
    "gradient_x2  = regression_model_b.params[2]\n",
    "\n",
    "\n",
    "\n",
    "# Note that predictor_coeffs is a list of the best-fit coefficients for x1, x2, x3, ...\n",
    "# Similarly, pvalues_T is a list of the p-values associated with each of these variables in turn.\n",
    "\n",
    "# Print these summary stats:\n",
    "print(\"predictor coefficients =\", predictor_coeffs)\n",
    "print(\"constant               =\", constant)\n",
    "print(\"Rsquared               =\", Rsquared)\n",
    "print(\"MSE                    =\", MSE)\n",
    "print(\"T-test pvalues         =\", pvalues_T)\n",
    "print(\"F-test pvalue          =\", pvalue_F)\n",
    "\n"
   ]
  },
  {
   "cell_type": "code",
   "execution_count": 92,
   "metadata": {},
   "outputs": [
    {
     "name": "stdout",
     "output_type": "stream",
     "text": [
      "predictor coefficients = total_budget        8.358334e-10\n",
      "school_awareness   -6.650518e-09\n",
      "media_awareness     3.089955e-09\n",
      "clean_air           2.098478e-09\n",
      "clean_env          -1.613479e-10\n",
      "health_training    -4.863080e-09\n",
      "sub_counselling     7.322473e-09\n",
      "dtype: float64\n",
      "constant               = 0.0031540527307202773\n",
      "Rsquared               = 0.04620093806939174\n",
      "MSE                    = 1.1665070279497166e-06\n",
      "T-test pvalues         = total_budget        0.331159\n",
      "school_awareness    0.026212\n",
      "media_awareness     0.535777\n",
      "clean_air           0.530090\n",
      "clean_env           0.954403\n",
      "health_training     0.435529\n",
      "sub_counselling     0.363041\n",
      "dtype: float64\n",
      "F-test pvalue          = 0.3668214433066397\n"
     ]
    }
   ],
   "source": [
    "print(\"predictor coefficients =\", predictor_coeffs)\n",
    "print(\"constant               =\", constant)\n",
    "print(\"Rsquared               =\", Rsquared)\n",
    "print(\"MSE                    =\", MSE)\n",
    "print(\"T-test pvalues         =\", pvalues_T)\n",
    "print(\"F-test pvalue          =\", pvalue_F)\n"
   ]
  },
  {
   "cell_type": "code",
   "execution_count": 90,
   "metadata": {},
   "outputs": [
    {
     "data": {
      "image/png": "[encoded data removed]",
      "text/plain": [
       "<Figure size 600.8x288 with 1 Axes>"
      ]
     },
     "metadata": {
      "needs_background": "light"
     },
     "output_type": "display_data"
    }
   ],
   "source": [
    "# This line creates the endpoints of the best-fit line:\n",
    "x2_values = data_new.school_awareness\n",
    "x_lobf = [min(x2_values),max(x2_values)]\n",
    "y_lobf = [x_lobf[0]*gradient_x2 + constant,x_lobf[1]*gradient_x2 + constant]\n",
    "\n",
    "# This line creates the figure. \n",
    "plt.figure(figsize=(figure_width,figure_height))\n",
    "\n",
    "# The next lines create and save the plot:\n",
    "plt.plot(x2_values,y_values,'b.',x_lobf,y_lobf,'r--' )\n",
    "plt.title('Linear Regression of Proportion and school awareness')\n",
    "plt.xlabel('Budget allocated on schoool awareness')\n",
    "plt.ylabel('Proportion of obesity')\n",
    "x_locator=MultipleLocator(30000)\n",
    "ax=plt.gca()\n",
    "ax.xaxis.set_major_locator(x_locator)\n",
    "maxsize=4\n",
    "m=0.2\n",
    "N=len(x2_values)\n",
    "s=maxsize/plt.gcf().dpi*N+2*m\n",
    "margin=m/plt.gcf().get_size_inches()[0]\n",
    "plt.gcf().subplots_adjust(left=margin, right=1.-margin)\n",
    "plt.gcf().set_size_inches(s,plt.gcf().get_size_inches()[0])\n",
    "plt.savefig(output_filename)\n"
   ]
  }
 ],
 "metadata": {
  "interpreter": {
   "hash": "f01fa20639c0a828cf9d216bd7a127cb9fd1575efe71eb614299675e71ab3862"
  },
  "kernelspec": {
   "display_name": "Python 3.7.9 64-bit ('my_conda_env_py38': conda)",
   "name": "python3"
  },
  "language_info": {
   "codemirror_mode": {
    "name": "ipython",
    "version": 3
   },
   "file_extension": ".py",
   "mimetype": "text/x-python",
   "name": "python",
   "nbconvert_exporter": "python",
   "pygments_lexer": "ipython3",
   "version": "3.7.9"
  },
  "orig_nbformat": 4
 },
 "nbformat": 4,
 "nbformat_minor": 2
}
